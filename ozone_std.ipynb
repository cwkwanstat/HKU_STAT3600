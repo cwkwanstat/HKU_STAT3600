{
  "nbformat": 4,
  "nbformat_minor": 0,
  "metadata": {
    "colab": {
      "name": "ozone_std.ipynb",
      "provenance": [],
      "collapsed_sections": [],
      "mount_file_id": "1wFfFiZoc_U693pwDqZRBUGZMg4by3EbZ",
      "authorship_tag": "ABX9TyOlbSkHOR6pAqJTAbVslewD",
      "include_colab_link": true
    },
    "kernelspec": {
      "name": "python3",
      "display_name": "Python 3"
    },
    "language_info": {
      "name": "python"
    }
  },
  "cells": [
    {
      "cell_type": "markdown",
      "metadata": {
        "id": "view-in-github",
        "colab_type": "text"
      },
      "source": [
        "<a href=\"https://colab.research.google.com/github/cwkwanstat/HKU_STAT3600/blob/main/ozone_std.ipynb\" target=\"_parent\"><img src=\"https://colab.research.google.com/assets/colab-badge.svg\" alt=\"Open In Colab\"/></a>"
      ]
    },
    {
      "cell_type": "code",
      "execution_count": null,
      "metadata": {
        "id": "DFbcrt7bdoab"
      },
      "outputs": [],
      "source": [
        "import numpy as np\n",
        "from scipy.stats import t\n",
        "from scipy.stats import f\n",
        "import math"
      ]
    },
    {
      "cell_type": "markdown",
      "source": [
        "Ch04\n",
        "P.4"
      ],
      "metadata": {
        "id": "N2eAxWopWBlu"
      }
    },
    {
      "cell_type": "code",
      "source": [
        "mydata = np.loadtxt(\"https://raw.githubusercontent.com/cwkwanstat/HKU_STAT3600/main/ozone.txt\")\n",
        "n,p=mydata.shape\n",
        "\n",
        "x = mydata[:,1:4]\n",
        "y = mydata[:,0]\n",
        "x0 = np.ones((n,1))\n",
        "x = np.hstack((x0,x))\n",
        "\n",
        "n,p=x.shape"
      ],
      "metadata": {
        "id": "39rWJP21hUfe"
      },
      "execution_count": null,
      "outputs": []
    },
    {
      "cell_type": "markdown",
      "source": [
        "P.5"
      ],
      "metadata": {
        "id": "lxOldg-7WRMY"
      }
    },
    {
      "cell_type": "code",
      "source": [
        "ixtx=np.linalg.inv(x.T @ x)\n",
        "beta=ixtx @ x.T @ y\n",
        "beta"
      ],
      "metadata": {
        "colab": {
          "base_uri": "https://localhost:8080/"
        },
        "id": "_2twh4griIh0",
        "outputId": "d8f98f91-29bf-41b1-ad23-a8cf2f8de273"
      },
      "execution_count": null,
      "outputs": [
        {
          "output_type": "execute_result",
          "data": {
            "text/plain": [
              "array([-0.29527103,  0.00130582,  0.04560574, -0.0278435 ])"
            ]
          },
          "metadata": {},
          "execution_count": 3
        }
      ]
    },
    {
      "cell_type": "markdown",
      "source": [
        "P.9"
      ],
      "metadata": {
        "id": "UNPJeQO6WXBk"
      }
    },
    {
      "cell_type": "code",
      "source": [
        "yhat=x @ beta\n",
        "yhat"
      ],
      "metadata": {
        "colab": {
          "base_uri": "https://localhost:8080/"
        },
        "id": "LXmgG1KwiQzs",
        "outputId": "f19b182f-0ecd-4a9e-f9f8-fd3b23cf7910"
      },
      "execution_count": null,
      "outputs": [
        {
          "output_type": "execute_result",
          "data": {
            "text/plain": [
              "array([2.80237697, 2.91968085, 2.92329255, 2.62080527, 2.82008722,\n",
              "       2.1405034 , 1.9518356 , 2.91573227, 2.83723452, 2.86021901,\n",
              "       2.06720602, 2.73943889, 2.7814716 , 1.8937897 , 2.90619208,\n",
              "       2.3196591 , 2.13583249, 2.98960734, 2.24924285, 2.27269247,\n",
              "       2.44316748, 3.31299175, 3.44007177, 3.32904628, 3.3401567 ,\n",
              "       3.80499812, 3.77400703, 3.41491277, 3.05091401, 2.78283389])"
            ]
          },
          "metadata": {},
          "execution_count": 4
        }
      ]
    },
    {
      "cell_type": "code",
      "source": [
        "res=y-yhat\n",
        "res"
      ],
      "metadata": {
        "colab": {
          "base_uri": "https://localhost:8080/"
        },
        "id": "gMoiJvFAiW5e",
        "outputId": "fc1d176f-19b9-435a-9796-3412b7bd501d"
      },
      "execution_count": null,
      "outputs": [
        {
          "output_type": "execute_result",
          "data": {
            "text/plain": [
              "array([ 6.47623027e-01,  3.80319146e-01, -6.33292553e-01, -8.05268615e-04,\n",
              "        1.99127826e-02,  5.29496597e-01,  4.81644022e-02, -3.95732267e-01,\n",
              "       -6.17234521e-01, -4.50219013e-01,  5.52793983e-01, -3.29438890e-01,\n",
              "        4.58528398e-01, -7.37896998e-02,  2.03807924e-01, -9.96590964e-02,\n",
              "       -1.13583249e+00, -7.69607336e-01, -6.59242851e-01,  8.97307527e-01,\n",
              "        3.96832515e-01,  2.47008246e-01,  1.41992823e+00,  9.53718893e-04,\n",
              "       -2.70156695e-01,  3.35001885e-01, -3.84007031e-01, -5.74912771e-01,\n",
              "       -2.90914010e-01,  5.47166113e-01])"
            ]
          },
          "metadata": {},
          "execution_count": 5
        }
      ]
    },
    {
      "cell_type": "code",
      "source": [
        "sse=np.sum(res**2)\n",
        "mse=sse/(n-p)\n",
        "print(sse)\n",
        "print(mse)"
      ],
      "metadata": {
        "colab": {
          "base_uri": "https://localhost:8080/"
        },
        "id": "IWkVmlrvi3v1",
        "outputId": "10495231-9a10-4f21-b34a-45ebfedcbfe7"
      },
      "execution_count": null,
      "outputs": [
        {
          "output_type": "stream",
          "name": "stdout",
          "text": [
            "9.073832709056122\n",
            "0.3489935657329278\n"
          ]
        }
      ]
    },
    {
      "cell_type": "markdown",
      "source": [
        "P.10"
      ],
      "metadata": {
        "id": "0da3sJc3Whps"
      }
    },
    {
      "cell_type": "code",
      "source": [
        "varBeta=mse * ixtx\n",
        "varBeta"
      ],
      "metadata": {
        "colab": {
          "base_uri": "https://localhost:8080/"
        },
        "id": "jxn_EqUgjIDy",
        "outputId": "9bb7933d-c689-4daf-bb0b-f5de4a746690"
      },
      "execution_count": null,
      "outputs": [
        {
          "output_type": "execute_result",
          "data": {
            "text/plain": [
              "array([[ 9.96698610e-01,  2.15446160e-04, -1.23371622e-02,\n",
              "        -1.42772324e-02],\n",
              "       [ 2.15446160e-04,  1.16613125e-06, -6.30722329e-06,\n",
              "         4.92048912e-09],\n",
              "       [-1.23371622e-02, -6.30722329e-06,  1.86311650e-04,\n",
              "         5.02238177e-05],\n",
              "       [-1.42772324e-02,  4.92048912e-09,  5.02238177e-05,\n",
              "         9.12241619e-04]])"
            ]
          },
          "metadata": {},
          "execution_count": 7
        }
      ]
    },
    {
      "cell_type": "code",
      "source": [
        "seBeta=np.sqrt(np.diagonal(varBeta))\n",
        "seBeta"
      ],
      "metadata": {
        "colab": {
          "base_uri": "https://localhost:8080/"
        },
        "id": "GdEfG8B_jMzt",
        "outputId": "363786c1-dee2-40ec-a73b-30204b6508aa"
      },
      "execution_count": null,
      "outputs": [
        {
          "output_type": "execute_result",
          "data": {
            "text/plain": [
              "array([0.99834794, 0.00107988, 0.0136496 , 0.03020334])"
            ]
          },
          "metadata": {},
          "execution_count": 8
        }
      ]
    },
    {
      "cell_type": "code",
      "source": [
        "myt=t(df=n-p).ppf(0.975)\n",
        "myt"
      ],
      "metadata": {
        "colab": {
          "base_uri": "https://localhost:8080/"
        },
        "id": "o3Gg6Or8jRNO",
        "outputId": "6a6ce23e-ff54-41dc-e836-3a422ba8bad7"
      },
      "execution_count": null,
      "outputs": [
        {
          "output_type": "execute_result",
          "data": {
            "text/plain": [
              "2.055529438642871"
            ]
          },
          "metadata": {},
          "execution_count": 9
        }
      ]
    },
    {
      "cell_type": "code",
      "source": [
        "CI=np.array([beta-myt*seBeta,beta+myt*seBeta])\n",
        "CI"
      ],
      "metadata": {
        "colab": {
          "base_uri": "https://localhost:8080/"
        },
        "id": "Mtvt0jnLjVeF",
        "outputId": "b456d5e3-efdc-445e-b5a5-e26ec0ac038e"
      },
      "execution_count": null,
      "outputs": [
        {
          "output_type": "execute_result",
          "data": {
            "text/plain": [
              "array([[-2.34740461e+00, -9.13900172e-04,  1.75485843e-02,\n",
              "        -8.99273461e-02],\n",
              "       [ 1.75686255e+00,  3.52553188e-03,  7.36629040e-02,\n",
              "         3.42403542e-02]])"
            ]
          },
          "metadata": {},
          "execution_count": 10
        }
      ]
    },
    {
      "cell_type": "code",
      "source": [
        "c=np.array([0,0,1,0])\n",
        "lhat=c @ beta\n",
        "lhat"
      ],
      "metadata": {
        "colab": {
          "base_uri": "https://localhost:8080/"
        },
        "id": "ykpeMq-Uj1iq",
        "outputId": "0295863d-a058-4684-fc3f-b9c068945c60"
      },
      "execution_count": null,
      "outputs": [
        {
          "output_type": "execute_result",
          "data": {
            "text/plain": [
              "0.04560574414818844"
            ]
          },
          "metadata": {},
          "execution_count": 11
        }
      ]
    },
    {
      "cell_type": "code",
      "source": [
        "sel=np.sqrt(c @ varBeta @ c)\n",
        "sel"
      ],
      "metadata": {
        "colab": {
          "base_uri": "https://localhost:8080/"
        },
        "id": "4_XqRywukGqW",
        "outputId": "e9ff8fee-4a0c-4bb4-e1b7-7edd5c003900"
      },
      "execution_count": null,
      "outputs": [
        {
          "output_type": "execute_result",
          "data": {
            "text/plain": [
              "0.01364960255002585"
            ]
          },
          "metadata": {},
          "execution_count": 12
        }
      ]
    },
    {
      "cell_type": "code",
      "source": [
        "cil=[lhat-myt*sel,lhat+myt*sel]\n",
        "cil"
      ],
      "metadata": {
        "colab": {
          "base_uri": "https://localhost:8080/"
        },
        "id": "AlEwwua1kXwb",
        "outputId": "eb99aae9-0f55-404c-9377-278da2b76934"
      },
      "execution_count": null,
      "outputs": [
        {
          "output_type": "execute_result",
          "data": {
            "text/plain": [
              "[0.017548584280835503, 0.07366290401554138]"
            ]
          },
          "metadata": {},
          "execution_count": 13
        }
      ]
    },
    {
      "cell_type": "markdown",
      "source": [
        "P.14"
      ],
      "metadata": {
        "id": "npK1L28fWvQM"
      }
    },
    {
      "cell_type": "code",
      "source": [
        "x0=np.array([1,200,70,15])\n",
        "y0=x0 @ beta\n",
        "y0"
      ],
      "metadata": {
        "colab": {
          "base_uri": "https://localhost:8080/"
        },
        "id": "m8PuKgEcklDR",
        "outputId": "b06b5bf2-ff61-4388-ff1c-eaad88ef94e6"
      },
      "execution_count": null,
      "outputs": [
        {
          "output_type": "execute_result",
          "data": {
            "text/plain": [
              "2.7406417943147092"
            ]
          },
          "metadata": {},
          "execution_count": 14
        }
      ]
    },
    {
      "cell_type": "code",
      "source": [
        "seI=np.sqrt(mse*(x0 @ ixtx @ x0+1))\n",
        "ciI=[y0-myt*seI,y0+myt*seI]\n",
        "print(seI)\n",
        "print(ciI)"
      ],
      "metadata": {
        "colab": {
          "base_uri": "https://localhost:8080/"
        },
        "id": "44MnM5uckzgO",
        "outputId": "0b77662c-5a6f-4094-bfbe-9a44bbf4f715"
      },
      "execution_count": null,
      "outputs": [
        {
          "output_type": "stream",
          "name": "stdout",
          "text": [
            "0.608337852504581\n",
            "[1.4901854298507584, 3.99109815877866]\n"
          ]
        }
      ]
    },
    {
      "cell_type": "code",
      "source": [
        "seM=np.sqrt(mse*(x0 @ ixtx @ x0))\n",
        "ciM=[y0-myt*seM,y0+myt*seM]\n",
        "print(seM)\n",
        "print(ciM)"
      ],
      "metadata": {
        "colab": {
          "base_uri": "https://localhost:8080/"
        },
        "id": "cSitc7QZlHQS",
        "outputId": "3607a839-8908-4890-9768-85ed874aed70"
      },
      "execution_count": null,
      "outputs": [
        {
          "output_type": "stream",
          "name": "stdout",
          "text": [
            "0.14519427349918934\n",
            "[2.442190690814761, 3.0390928978146574]\n"
          ]
        }
      ]
    },
    {
      "cell_type": "markdown",
      "source": [
        "P.15"
      ],
      "metadata": {
        "id": "otDK-k57W1nZ"
      }
    },
    {
      "cell_type": "code",
      "source": [
        "x0=np.array([[1,100,70,10],\n",
        "             [1,50,80,10]])\n",
        "a=np.array([1,-1])\n",
        "lhat=a @ x0 @ beta\n",
        "lhat"
      ],
      "metadata": {
        "colab": {
          "base_uri": "https://localhost:8080/"
        },
        "id": "5wxk51WUllXA",
        "outputId": "a2968bbc-4cb3-4a4a-9e97-084819f0c0fe"
      },
      "execution_count": null,
      "outputs": [
        {
          "output_type": "execute_result",
          "data": {
            "text/plain": [
              "-0.39076664874377853"
            ]
          },
          "metadata": {},
          "execution_count": 17
        }
      ]
    },
    {
      "cell_type": "code",
      "source": [
        "axixxxa= a @ x0 @ ixtx @ x0.T @ a\n",
        "print(axixxxa)"
      ],
      "metadata": {
        "colab": {
          "base_uri": "https://localhost:8080/"
        },
        "id": "oid6xFbinqdG",
        "outputId": "d0fd7bc0-d586-4a21-be56-9946b4a8e3f3"
      },
      "execution_count": null,
      "outputs": [
        {
          "output_type": "stream",
          "name": "stdout",
          "text": [
            "0.07981154703713161\n"
          ]
        }
      ]
    },
    {
      "cell_type": "code",
      "source": [
        "seI=np.sqrt(mse*(axixxxa + a @ a))\n",
        "ciI=[lhat-myt*seI,lhat+myt*seI]\n",
        "print(seI)\n",
        "print(ciI)"
      ],
      "metadata": {
        "colab": {
          "base_uri": "https://localhost:8080/"
        },
        "id": "fOJFNU_VpdUd",
        "outputId": "6598668f-9821-49fb-cee4-88fc6111cb3c"
      },
      "execution_count": null,
      "outputs": [
        {
          "output_type": "stream",
          "name": "stdout",
          "text": [
            "0.8519629380747765\n",
            "[-2.142001548589155, 1.3604682511015977]\n"
          ]
        }
      ]
    },
    {
      "cell_type": "code",
      "source": [
        "seM=np.sqrt(mse*(axixxxa))\n",
        "ciM=[lhat-myt*seM,lhat+myt*seM]\n",
        "print(seM)\n",
        "print(ciM)"
      ],
      "metadata": {
        "colab": {
          "base_uri": "https://localhost:8080/"
        },
        "id": "buSUvkS2pxzB",
        "outputId": "2952325c-1ee8-44de-b184-cedfdd666290"
      },
      "execution_count": null,
      "outputs": [
        {
          "output_type": "stream",
          "name": "stdout",
          "text": [
            "0.1668943270070911\n",
            "[-0.7338228510493442, -0.04771044643821287]\n"
          ]
        }
      ]
    },
    {
      "cell_type": "markdown",
      "source": [
        "Ch05 P.6"
      ],
      "metadata": {
        "id": "iyfB2aD1XEVJ"
      }
    },
    {
      "cell_type": "code",
      "source": [
        "ssr=np.sum((yhat-np.mean(y))**2)\n",
        "ssr"
      ],
      "metadata": {
        "colab": {
          "base_uri": "https://localhost:8080/"
        },
        "id": "FQ3ByPX941hr",
        "outputId": "4f2e0065-3370-4b1a-d484-0d37e13608d2"
      },
      "execution_count": null,
      "outputs": [
        {
          "output_type": "execute_result",
          "data": {
            "text/plain": [
              "7.668513957610555"
            ]
          },
          "metadata": {},
          "execution_count": 21
        }
      ]
    },
    {
      "cell_type": "code",
      "source": [
        "msr=ssr/(p-1)\n",
        "msr"
      ],
      "metadata": {
        "colab": {
          "base_uri": "https://localhost:8080/"
        },
        "id": "zygBFTDL5Agq",
        "outputId": "55417030-6d42-44a4-f151-eb0606544f6f"
      },
      "execution_count": null,
      "outputs": [
        {
          "output_type": "execute_result",
          "data": {
            "text/plain": [
              "2.5561713192035183"
            ]
          },
          "metadata": {},
          "execution_count": 22
        }
      ]
    },
    {
      "cell_type": "code",
      "source": [
        "fRatio=msr/mse\n",
        "fRatio"
      ],
      "metadata": {
        "colab": {
          "base_uri": "https://localhost:8080/"
        },
        "id": "SD0tIPAF5FIa",
        "outputId": "462ddf74-88e1-41d2-83fd-fda160295424"
      },
      "execution_count": null,
      "outputs": [
        {
          "output_type": "execute_result",
          "data": {
            "text/plain": [
              "7.324408155878909"
            ]
          },
          "metadata": {},
          "execution_count": 23
        }
      ]
    },
    {
      "cell_type": "code",
      "source": [
        "f(p-1,n-p).ppf(.95)"
      ],
      "metadata": {
        "colab": {
          "base_uri": "https://localhost:8080/"
        },
        "id": "bWBAUxtz5ImD",
        "outputId": "6016b30c-871d-46b3-ba6f-3fbec8c40899"
      },
      "execution_count": null,
      "outputs": [
        {
          "output_type": "execute_result",
          "data": {
            "text/plain": [
              "2.9751539639733933"
            ]
          },
          "metadata": {},
          "execution_count": 24
        }
      ]
    },
    {
      "cell_type": "code",
      "source": [
        "1-f(p-1,n-p).cdf(fRatio)"
      ],
      "metadata": {
        "colab": {
          "base_uri": "https://localhost:8080/"
        },
        "id": "hyr3IEBf5iAb",
        "outputId": "e2a91427-c038-453a-c68c-603d6b7e6bd4"
      },
      "execution_count": null,
      "outputs": [
        {
          "output_type": "execute_result",
          "data": {
            "text/plain": [
              "0.0010258981259934075"
            ]
          },
          "metadata": {},
          "execution_count": 25
        }
      ]
    },
    {
      "cell_type": "code",
      "source": [
        "sst=np.sum((y-np.mean(y))**2)\n",
        "rsq=ssr/sst\n",
        "rsq"
      ],
      "metadata": {
        "colab": {
          "base_uri": "https://localhost:8080/"
        },
        "id": "s1l3xop059WE",
        "outputId": "466f8a5b-574b-4164-a790-f7295d68ad2e"
      },
      "execution_count": null,
      "outputs": [
        {
          "output_type": "execute_result",
          "data": {
            "text/plain": [
              "0.4580310102453115"
            ]
          },
          "metadata": {},
          "execution_count": 26
        }
      ]
    },
    {
      "cell_type": "markdown",
      "source": [
        "P.10"
      ],
      "metadata": {
        "id": "0djxRilZXNa8"
      }
    },
    {
      "cell_type": "code",
      "source": [
        "xr=x[:,[0,2]]\n",
        "ixtxr=np.linalg.inv(xr.T @xr)\n",
        "betar=ixtxr @ xr.T @ y\n",
        "yhatr=xr @ betar\n",
        "ssrr=np.sum((yhatr-np.mean(y))**2)\n",
        "resr=y-yhatr\n",
        "sser=np.sum(resr**2)"
      ],
      "metadata": {
        "id": "KCCtpcg6G0FC"
      },
      "execution_count": null,
      "outputs": []
    },
    {
      "cell_type": "code",
      "source": [
        "print(sser)\n",
        "print(ssrr)"
      ],
      "metadata": {
        "colab": {
          "base_uri": "https://localhost:8080/"
        },
        "id": "d25b8VPVH-KQ",
        "outputId": "e2c8dc6d-d657-45c3-94af-508164fe2f6b"
      },
      "execution_count": null,
      "outputs": [
        {
          "output_type": "stream",
          "name": "stdout",
          "text": [
            "9.880848871761936\n",
            "6.8614977949047695\n"
          ]
        }
      ]
    },
    {
      "cell_type": "code",
      "source": [
        "ssext=sser-sse\n",
        "ssext"
      ],
      "metadata": {
        "colab": {
          "base_uri": "https://localhost:8080/"
        },
        "id": "a_iYd8LEIEzw",
        "outputId": "96da0369-4256-45c3-c10c-8be95c6d0b1a"
      },
      "execution_count": null,
      "outputs": [
        {
          "output_type": "execute_result",
          "data": {
            "text/plain": [
              "0.8070161627058141"
            ]
          },
          "metadata": {},
          "execution_count": 29
        }
      ]
    },
    {
      "cell_type": "code",
      "source": [
        "msext=ssext/2\n",
        "msext"
      ],
      "metadata": {
        "colab": {
          "base_uri": "https://localhost:8080/"
        },
        "id": "hzokjBlOIQNQ",
        "outputId": "6f701e0e-c676-4ed5-83e2-6438d2baff68"
      },
      "execution_count": null,
      "outputs": [
        {
          "output_type": "execute_result",
          "data": {
            "text/plain": [
              "0.40350808135290706"
            ]
          },
          "metadata": {},
          "execution_count": 30
        }
      ]
    },
    {
      "cell_type": "code",
      "source": [
        "fRatio=msext/mse\n",
        "fRatio"
      ],
      "metadata": {
        "colab": {
          "base_uri": "https://localhost:8080/"
        },
        "id": "FeraW_A9IbBB",
        "outputId": "2443eda7-d589-48d3-e022-0b13525f118f"
      },
      "execution_count": null,
      "outputs": [
        {
          "output_type": "execute_result",
          "data": {
            "text/plain": [
              "1.156204930327275"
            ]
          },
          "metadata": {},
          "execution_count": 31
        }
      ]
    },
    {
      "cell_type": "code",
      "source": [
        "1-f(2,n-4).cdf(fRatio)"
      ],
      "metadata": {
        "colab": {
          "base_uri": "https://localhost:8080/"
        },
        "id": "jlkL73M6If85",
        "outputId": "6d955530-7026-47d9-cc84-d3fd27752226"
      },
      "execution_count": null,
      "outputs": [
        {
          "output_type": "execute_result",
          "data": {
            "text/plain": [
              "0.330335042478607"
            ]
          },
          "metadata": {},
          "execution_count": 32
        }
      ]
    },
    {
      "cell_type": "code",
      "source": [
        "f(2,n-4).ppf(.95)"
      ],
      "metadata": {
        "colab": {
          "base_uri": "https://localhost:8080/"
        },
        "id": "QpabY7_YIxwT",
        "outputId": "51c66316-e4a1-49e5-debf-76e31d9e202b"
      },
      "execution_count": null,
      "outputs": [
        {
          "output_type": "execute_result",
          "data": {
            "text/plain": [
              "3.3690163594954443"
            ]
          },
          "metadata": {},
          "execution_count": 33
        }
      ]
    },
    {
      "cell_type": "markdown",
      "source": [
        "P.11"
      ],
      "metadata": {
        "id": "8Pau4Hk2XWIC"
      }
    },
    {
      "cell_type": "code",
      "source": [
        "c=np.array([0,0,1,-1])\n",
        "l0=0"
      ],
      "metadata": {
        "id": "yQzb6eQeXYBJ"
      },
      "execution_count": null,
      "outputs": []
    },
    {
      "cell_type": "code",
      "source": [
        "cixtxc=c @ ixtx @ c\n",
        "cixtxc"
      ],
      "metadata": {
        "colab": {
          "base_uri": "https://localhost:8080/"
        },
        "id": "gl0TivK6Xgcl",
        "outputId": "4964f3bb-fdc5-4682-f7a8-0f6467ff8ff8"
      },
      "execution_count": null,
      "outputs": [
        {
          "output_type": "execute_result",
          "data": {
            "text/plain": [
              "0.0028599542556163237"
            ]
          },
          "metadata": {},
          "execution_count": 35
        }
      ]
    },
    {
      "cell_type": "code",
      "source": [
        "l=c @ beta\n",
        "l-l0"
      ],
      "metadata": {
        "colab": {
          "base_uri": "https://localhost:8080/"
        },
        "id": "da6u2JKXXr9Z",
        "outputId": "60b3e8c4-f406-4424-9d8e-0f1b49b0e979"
      },
      "execution_count": null,
      "outputs": [
        {
          "output_type": "execute_result",
          "data": {
            "text/plain": [
              "0.07344924011883525"
            ]
          },
          "metadata": {},
          "execution_count": 36
        }
      ]
    },
    {
      "cell_type": "code",
      "source": [
        "fRatio=(l-l0)**2/cixtxc /1/mse\n",
        "fRatio"
      ],
      "metadata": {
        "colab": {
          "base_uri": "https://localhost:8080/"
        },
        "id": "gk9aMN57Xyv_",
        "outputId": "ec98da8c-6eed-4db4-db1d-908091d3dfcb"
      },
      "execution_count": null,
      "outputs": [
        {
          "output_type": "execute_result",
          "data": {
            "text/plain": [
              "5.405029981760005"
            ]
          },
          "metadata": {},
          "execution_count": 37
        }
      ]
    },
    {
      "cell_type": "code",
      "source": [
        "f(1,n-p).ppf(.95)"
      ],
      "metadata": {
        "colab": {
          "base_uri": "https://localhost:8080/"
        },
        "id": "LW4YRkRZYGFV",
        "outputId": "c8c72924-50d1-44e2-bab9-3a01562b9c6b"
      },
      "execution_count": null,
      "outputs": [
        {
          "output_type": "execute_result",
          "data": {
            "text/plain": [
              "4.2252012731274835"
            ]
          },
          "metadata": {},
          "execution_count": 38
        }
      ]
    },
    {
      "cell_type": "code",
      "source": [
        "1-f(1,n-p).cdf(fRatio)"
      ],
      "metadata": {
        "colab": {
          "base_uri": "https://localhost:8080/"
        },
        "id": "jh1mlexSYgH3",
        "outputId": "f22e5c7a-7b7b-475f-8761-a1e88bfe5dda"
      },
      "execution_count": null,
      "outputs": [
        {
          "output_type": "execute_result",
          "data": {
            "text/plain": [
              "0.028153658249593705"
            ]
          },
          "metadata": {},
          "execution_count": 39
        }
      ]
    },
    {
      "cell_type": "markdown",
      "source": [
        "P.13"
      ],
      "metadata": {
        "id": "5JBdIfcDazSk"
      }
    },
    {
      "cell_type": "code",
      "source": [
        "C=np.array([[0,0,1,-1],[0,1,1,1]])\n",
        "l0=np.array([0,0.5])"
      ],
      "metadata": {
        "id": "H3mQYd7nayXU"
      },
      "execution_count": null,
      "outputs": []
    },
    {
      "cell_type": "code",
      "source": [
        "cixtxct=C @ ixtx @ C.T\n",
        "cixtxct"
      ],
      "metadata": {
        "colab": {
          "base_uri": "https://localhost:8080/"
        },
        "id": "l6zSrxSna8tR",
        "outputId": "f96528b2-9072-42a8-fcd7-44fbe81ea698"
      },
      "execution_count": null,
      "outputs": [
        {
          "output_type": "execute_result",
          "data": {
            "text/plain": [
              "array([[ 0.00285995, -0.00209815],\n",
              "       [-0.00209815,  0.00340282]])"
            ]
          },
          "metadata": {},
          "execution_count": 41
        }
      ]
    },
    {
      "cell_type": "code",
      "source": [
        "l=C @ beta\n",
        "l-l0"
      ],
      "metadata": {
        "colab": {
          "base_uri": "https://localhost:8080/"
        },
        "id": "hgVs-bsdbJye",
        "outputId": "5a0cb181-9f45-494d-e8b5-90b2a673bb0a"
      },
      "execution_count": null,
      "outputs": [
        {
          "output_type": "execute_result",
          "data": {
            "text/plain": [
              "array([ 0.07344924, -0.48093194])"
            ]
          },
          "metadata": {},
          "execution_count": 42
        }
      ]
    },
    {
      "cell_type": "code",
      "source": [
        "fRatio=(l-l0).T @ np.linalg.inv(cixtxct) @ (l-l0)/2/mse\n",
        "fRatio"
      ],
      "metadata": {
        "colab": {
          "base_uri": "https://localhost:8080/"
        },
        "id": "VVPaqfpYbO48",
        "outputId": "fbbd0ad5-0e21-4af3-d040-f8bcdc4af3c8"
      },
      "execution_count": null,
      "outputs": [
        {
          "output_type": "execute_result",
          "data": {
            "text/plain": [
              "142.90761651141833"
            ]
          },
          "metadata": {},
          "execution_count": 43
        }
      ]
    },
    {
      "cell_type": "code",
      "source": [
        "f(2,n-p).ppf(.95)"
      ],
      "metadata": {
        "colab": {
          "base_uri": "https://localhost:8080/"
        },
        "id": "AWPMfhE7bgbe",
        "outputId": "2cb9a5b5-b3ce-41d6-ef5f-145051e6df8f"
      },
      "execution_count": null,
      "outputs": [
        {
          "output_type": "execute_result",
          "data": {
            "text/plain": [
              "3.3690163594954443"
            ]
          },
          "metadata": {},
          "execution_count": 44
        }
      ]
    },
    {
      "cell_type": "code",
      "source": [
        "1-f(2,n-p).cdf(fRatio)"
      ],
      "metadata": {
        "colab": {
          "base_uri": "https://localhost:8080/"
        },
        "id": "qAHlv7sqbk5c",
        "outputId": "5cca0d79-a37a-468a-970a-19f3c8009fed"
      },
      "execution_count": null,
      "outputs": [
        {
          "output_type": "execute_result",
          "data": {
            "text/plain": [
              "9.43689570931383e-15"
            ]
          },
          "metadata": {},
          "execution_count": 45
        }
      ]
    },
    {
      "cell_type": "markdown",
      "source": [
        "Ch06 P.3"
      ],
      "metadata": {
        "id": "n0xzdQJ_Q_mY"
      }
    },
    {
      "cell_type": "code",
      "source": [
        "p,sst"
      ],
      "metadata": {
        "colab": {
          "base_uri": "https://localhost:8080/"
        },
        "id": "x6NH3hl72wpc",
        "outputId": "0cf7fa7e-9ad2-4a61-9cdf-29a753358b4d"
      },
      "execution_count": null,
      "outputs": [
        {
          "output_type": "execute_result",
          "data": {
            "text/plain": [
              "(4, 16.742346666666663)"
            ]
          },
          "metadata": {},
          "execution_count": 46
        }
      ]
    },
    {
      "cell_type": "code",
      "source": [
        "x1 = x[:,0:4]\n",
        "n,p=x1.shape\n",
        "p=p-1\n",
        "beta=np.linalg.inv(x1.T @ x1) @ x1.T @ y\n",
        "yhat=x1 @ beta\n",
        "res=y-yhat\n",
        "ssep=np.sum(res**2)\n",
        "cp=ssep/mse-(n-2*p-2)\n",
        "rsq=1-ssep/sst\n",
        "msep=ssep/(n-p-1)\n",
        "arsq=1-msep/sst*(n-1)\n",
        "aic=n+n*np.log(2*math.pi)+n*np.log(ssep/n)+2*(p+2)\n",
        "bic=n+n*np.log(2*math.pi)+n*np.log(ssep/n)+np.log(n)*(p+2)\n",
        "print(p,ssep,cp,rsq,arsq,aic,bic)"
      ],
      "metadata": {
        "colab": {
          "base_uri": "https://localhost:8080/"
        },
        "id": "5MyKvp4B8vXp",
        "outputId": "e53a7708-5df0-42be-bd04-50e5f0c3fd4d"
      },
      "execution_count": null,
      "outputs": [
        {
          "output_type": "stream",
          "name": "stdout",
          "text": [
            "3 9.073832709056122 4.0 0.4580310102453107 0.39549612681207724 59.26223288571026 66.26821979402104\n"
          ]
        }
      ]
    },
    {
      "cell_type": "markdown",
      "source": [
        "Ch06 P.11"
      ],
      "metadata": {
        "id": "v8R9AR88Enc7"
      }
    },
    {
      "cell_type": "code",
      "source": [
        "xf=np.c_[x,x[:,1]*x[:,2],x[:,1]*x[:,3],x[:,2]*x[:,3]]\n",
        "n,pf=xf.shape\n",
        "betaf=np.linalg.inv(xf.T @ xf) @ xf.T @ y\n",
        "ssef=sum((y-xf @ betaf)**2)\n",
        "ssext=sse-ssef\n",
        "msext=ssext/3\n",
        "msef=ssef/(n-pf)\n",
        "fRatio=msext/msef\n",
        "print(ssr,ssext,ssef,sst)\n",
        "print(msr,msext,msef)\n",
        "print(fRatio)"
      ],
      "metadata": {
        "colab": {
          "base_uri": "https://localhost:8080/"
        },
        "id": "ioZRV-FKEpWY",
        "outputId": "c2810d63-4228-442c-9c4f-28b351ba4d0a"
      },
      "execution_count": null,
      "outputs": [
        {
          "output_type": "stream",
          "name": "stdout",
          "text": [
            "7.668513957610555 0.4035759932115539 8.670256715844568 16.742346666666663\n",
            "2.5561713192035183 0.13452533107051798 0.3769676832975899\n",
            "0.35686170733187106\n"
          ]
        }
      ]
    },
    {
      "cell_type": "code",
      "source": [
        "f(3,n-pf).ppf(.95)"
      ],
      "metadata": {
        "colab": {
          "base_uri": "https://localhost:8080/"
        },
        "id": "qQDp26ytGhL-",
        "outputId": "e9da7720-82ac-41b2-8628-e9c9b584951c"
      },
      "execution_count": null,
      "outputs": [
        {
          "output_type": "execute_result",
          "data": {
            "text/plain": [
              "3.0279983823321968"
            ]
          },
          "metadata": {},
          "execution_count": 60
        }
      ]
    },
    {
      "cell_type": "code",
      "source": [
        "1-f(3,n-pf).cdf(fRatio)"
      ],
      "metadata": {
        "colab": {
          "base_uri": "https://localhost:8080/"
        },
        "id": "qh-ob3lQHAe_",
        "outputId": "2325dd49-8153-4e87-ec1b-fbf3e1098740"
      },
      "execution_count": null,
      "outputs": [
        {
          "output_type": "execute_result",
          "data": {
            "text/plain": [
              "0.7846410083163626"
            ]
          },
          "metadata": {},
          "execution_count": 61
        }
      ]
    },
    {
      "cell_type": "markdown",
      "source": [
        "Ch10, P.8"
      ],
      "metadata": {
        "id": "EAvBGLvy89OC"
      }
    },
    {
      "cell_type": "code",
      "source": [
        "H=x @ np.linalg.inv(x.T @ x) @ x.T\n",
        "sr=np.sqrt(mse*np.diag(np.eye(n)-H))\n",
        "rstd=res/sr\n",
        "rstd "
      ],
      "metadata": {
        "colab": {
          "base_uri": "https://localhost:8080/"
        },
        "id": "Zf4ReNYW7eOs",
        "outputId": "1c3a13c4-bf00-40d2-e342-031ae2a93ba0"
      },
      "execution_count": null,
      "outputs": [
        {
          "output_type": "execute_result",
          "data": {
            "text/plain": [
              "array([ 1.14976220e+00,  6.77327671e-01, -1.10538936e+00, -1.47592855e-03,\n",
              "        3.61778933e-02,  9.39484016e-01,  9.58692130e-02, -6.91216045e-01,\n",
              "       -1.10483619e+00, -7.87989700e-01,  9.89131092e-01, -6.03765244e-01,\n",
              "        8.17849242e-01, -1.39455798e-01,  3.63514493e-01, -1.79036777e-01,\n",
              "       -2.08904286e+00, -1.40770148e+00, -1.19643573e+00,  1.57836968e+00,\n",
              "        7.18739627e-01,  4.47232716e-01,  2.61508709e+00,  1.70543921e-03,\n",
              "       -5.00031019e-01,  6.50002606e-01, -7.13568891e-01, -1.06620673e+00,\n",
              "       -5.17579999e-01,  1.08366930e+00])"
            ]
          },
          "metadata": {},
          "execution_count": 62
        }
      ]
    },
    {
      "cell_type": "code",
      "source": [
        "import matplotlib.pyplot as plt"
      ],
      "metadata": {
        "id": "nHHp3TfL9ArO"
      },
      "execution_count": null,
      "outputs": []
    },
    {
      "cell_type": "code",
      "source": [
        "plt.plot(yhat,rstd,marker='o',linewidth=0)\n",
        "plt.axhline(y = 0, color = 'r', linestyle = '-')\n",
        "plt.xlabel('predicted')\n",
        "plt.ylabel('standardized residual')\n",
        "plt.show()"
      ],
      "metadata": {
        "colab": {
          "base_uri": "https://localhost:8080/",
          "height": 279
        },
        "id": "gnn2RqGk9GQT",
        "outputId": "a772918c-2b2b-4b4d-ab6b-dbaabb608f84"
      },
      "execution_count": null,
      "outputs": [
        {
          "output_type": "display_data",
          "data": {
            "text/plain": [
              "<Figure size 432x288 with 1 Axes>"
            ],
            "image/png": "[encoded data removed]"
          },
          "metadata": {
            "needs_background": "light"
          }
        }
      ]
    },
    {
      "cell_type": "code",
      "source": [
        "plt.plot(x[:,1],rstd,marker='o',linewidth=0)\n",
        "plt.axhline(y = 0, color = 'r', linestyle = '-')\n",
        "plt.xlabel('radiation')\n",
        "plt.ylabel('standardized residual')\n",
        "plt.show()"
      ],
      "metadata": {
        "colab": {
          "base_uri": "https://localhost:8080/",
          "height": 279
        },
        "id": "jdPWniZ39_by",
        "outputId": "bd77b8a5-84db-4ff6-8866-782a9b85c358"
      },
      "execution_count": null,
      "outputs": [
        {
          "output_type": "display_data",
          "data": {
            "text/plain": [
              "<Figure size 432x288 with 1 Axes>"
            ],
            "image/png": "[encoded data removed]"
          },
          "metadata": {
            "needs_background": "light"
          }
        }
      ]
    },
    {
      "cell_type": "code",
      "source": [
        "plt.plot(x[:,2],rstd,marker='o',linewidth=0)\n",
        "plt.axhline(y = 0, color = 'r', linestyle = '-')\n",
        "plt.xlabel('temperature')\n",
        "plt.ylabel('standardized residual')\n",
        "plt.show()"
      ],
      "metadata": {
        "colab": {
          "base_uri": "https://localhost:8080/",
          "height": 279
        },
        "id": "IXyu_ggO-LeY",
        "outputId": "c5a7397e-b70d-4595-f435-d47127124701"
      },
      "execution_count": null,
      "outputs": [
        {
          "output_type": "display_data",
          "data": {
            "text/plain": [
              "<Figure size 432x288 with 1 Axes>"
            ],
            "image/png": "[encoded data removed]"
          },
          "metadata": {
            "needs_background": "light"
          }
        }
      ]
    },
    {
      "cell_type": "code",
      "source": [
        "plt.plot(x[:,3],rstd,marker='o',linewidth=0)\n",
        "plt.axhline(y = 0, color = 'r', linestyle = '-')\n",
        "plt.xlabel('wind')\n",
        "plt.ylabel('standardized residual')\n",
        "plt.show()"
      ],
      "metadata": {
        "colab": {
          "base_uri": "https://localhost:8080/",
          "height": 279
        },
        "id": "Dz38o9Tl-QGL",
        "outputId": "732b28a0-610d-477e-c2a4-fd58a0677e4f"
      },
      "execution_count": null,
      "outputs": [
        {
          "output_type": "display_data",
          "data": {
            "text/plain": [
              "<Figure size 432x288 with 1 Axes>"
            ],
            "image/png": "[encoded data removed]"
          },
          "metadata": {
            "needs_background": "light"
          }
        }
      ]
    },
    {
      "cell_type": "markdown",
      "source": [
        "P.10"
      ],
      "metadata": {
        "id": "l4iZjVSe3PIy"
      }
    },
    {
      "cell_type": "code",
      "source": [
        "plt.plot(np.linspace(1, n,n),rstd,marker='o',linewidth=0)\n",
        "plt.axhline(y = 0, color = 'r', linestyle = '-')\n",
        "plt.xlabel('time')\n",
        "plt.ylabel('standardized residual')\n",
        "plt.show()"
      ],
      "metadata": {
        "colab": {
          "base_uri": "https://localhost:8080/",
          "height": 279
        },
        "id": "AvDvxNcA-Vh0",
        "outputId": "18ff52af-3e7c-4b31-d727-a3cf9f225719"
      },
      "execution_count": null,
      "outputs": [
        {
          "output_type": "display_data",
          "data": {
            "text/plain": [
              "<Figure size 432x288 with 1 Axes>"
            ],
            "image/png": "[encoded data removed]"
          },
          "metadata": {
            "needs_background": "light"
          }
        }
      ]
    },
    {
      "cell_type": "markdown",
      "source": [
        "P.11"
      ],
      "metadata": {
        "id": "gCw5tvo-3Tj2"
      }
    },
    {
      "cell_type": "code",
      "source": [
        "from scipy import stats"
      ],
      "metadata": {
        "id": "R8qXE8DQ_HvY"
      },
      "execution_count": null,
      "outputs": []
    },
    {
      "cell_type": "code",
      "source": [
        "rsorted=np.sort(res)\n",
        "exp_q=stats.norm().ppf(np.linspace(1,n,n)/(n+1))\n",
        "sdr=np.std(res)\n",
        "print(sdr)\n",
        "rx0=[min(exp_q),max(exp_q)]\n",
        "ry0=[min(exp_q)*sdr,max(exp_q)*sdr]\n",
        "plt.plot(exp_q,rsorted,marker='o',linewidth=0)\n",
        "plt.plot(rx0, ry0, linestyle = '-')\n",
        "plt.xlabel('expected')\n",
        "plt.ylabel('observed')\n",
        "plt.show()"
      ],
      "metadata": {
        "colab": {
          "base_uri": "https://localhost:8080/",
          "height": 297
        },
        "id": "zzHjBqXC-13P",
        "outputId": "f981d961-587a-4442-bcfa-6bfd0bdbaf5f"
      },
      "execution_count": null,
      "outputs": [
        {
          "output_type": "stream",
          "name": "stdout",
          "text": [
            "0.5499646264096181\n"
          ]
        },
        {
          "output_type": "display_data",
          "data": {
            "text/plain": [
              "<Figure size 432x288 with 1 Axes>"
            ],
            "image/png": "[encoded data removed]"
          },
          "metadata": {
            "needs_background": "light"
          }
        }
      ]
    },
    {
      "cell_type": "code",
      "source": [
        "stats.shapiro(rstd)"
      ],
      "metadata": {
        "colab": {
          "base_uri": "https://localhost:8080/"
        },
        "id": "jlm7rVJ_MTmD",
        "outputId": "745700d5-35c4-4cdf-ff4f-735ee6b2c7ab"
      },
      "execution_count": null,
      "outputs": [
        {
          "output_type": "execute_result",
          "data": {
            "text/plain": [
              "ShapiroResult(statistic=0.9830412268638611, pvalue=0.8993414044380188)"
            ]
          },
          "metadata": {},
          "execution_count": 73
        }
      ]
    },
    {
      "cell_type": "code",
      "source": [
        "ydot=y.prod()**(1/n)"
      ],
      "metadata": {
        "id": "FL8rrX-mMnaK"
      },
      "execution_count": null,
      "outputs": []
    },
    {
      "cell_type": "code",
      "source": [
        "l=1\n",
        "y1=(y**l-1)/l/ydot**(l-1)\n",
        "beta1=np.linalg.inv(x.T @ x) @ x.T @ y1\n",
        "rmse=np.sqrt(sum((y1-x @ beta1)**2)/(n-p-1))\n",
        "rmse"
      ],
      "metadata": {
        "colab": {
          "base_uri": "https://localhost:8080/"
        },
        "id": "S7qbiuyKNLnZ",
        "outputId": "fa5a5150-26ec-4887-ac46-15d3861acd89"
      },
      "execution_count": null,
      "outputs": [
        {
          "output_type": "execute_result",
          "data": {
            "text/plain": [
              "0.5907567737512012"
            ]
          },
          "metadata": {},
          "execution_count": 73
        }
      ]
    },
    {
      "cell_type": "code",
      "source": [
        "y1=ydot*np.log(y)\n",
        "beta1=np.linalg.inv(x.T @ x) @ x.T @ y1\n",
        "rmse=np.sqrt(sum((y1-x @ beta1)**2)/(n-p-1))\n",
        "rmse"
      ],
      "metadata": {
        "colab": {
          "base_uri": "https://localhost:8080/"
        },
        "id": "ON4hFJhJNsZc",
        "outputId": "92a02c1e-e69a-4c57-9e2b-1352886eb91a"
      },
      "execution_count": null,
      "outputs": [
        {
          "output_type": "execute_result",
          "data": {
            "text/plain": [
              "0.6431762922964919"
            ]
          },
          "metadata": {},
          "execution_count": 74
        }
      ]
    },
    {
      "cell_type": "code",
      "source": [
        "ydot"
      ],
      "metadata": {
        "colab": {
          "base_uri": "https://localhost:8080/"
        },
        "id": "n2UIidLhri13",
        "outputId": "c1385259-d7fa-4fda-83f0-8a762571d3c6"
      },
      "execution_count": null,
      "outputs": [
        {
          "output_type": "execute_result",
          "data": {
            "text/plain": [
              "2.6851004933755442"
            ]
          },
          "metadata": {},
          "execution_count": 77
        }
      ]
    },
    {
      "cell_type": "code",
      "source": [
        "ll=[]\n",
        "lr=np.linspace(-2,2,100)\n",
        "for l in lr:\n",
        "  y1=(y**l-1)/l\n",
        "  beta1=np.linalg.inv(x.T @ x) @ x.T @ y1\n",
        "  sse=((y1-x @ beta1)**2).sum()\n",
        "  ll.append(-n/2*np.log(sse)+(l)*(np.log(y)).sum())"
      ],
      "metadata": {
        "id": "i5NlXYcaf3db"
      },
      "execution_count": null,
      "outputs": []
    },
    {
      "cell_type": "code",
      "source": [
        "plt.plot(lr,ll)\n",
        "plt.show()"
      ],
      "metadata": {
        "colab": {
          "base_uri": "https://localhost:8080/",
          "height": 265
        },
        "id": "hcpZYzF3gAWV",
        "outputId": "96d4820f-2c3d-497c-bf78-469701919fa0"
      },
      "execution_count": null,
      "outputs": [
        {
          "output_type": "display_data",
          "data": {
            "text/plain": [
              "<Figure size 432x288 with 1 Axes>"
            ],
            "image/png": "[encoded data removed]"
          },
          "metadata": {
            "needs_background": "light"
          }
        }
      ]
    },
    {
      "cell_type": "markdown",
      "source": [
        "P.18"
      ],
      "metadata": {
        "id": "cJQOc7epPrqM"
      }
    },
    {
      "cell_type": "code",
      "source": [
        "hii=np.diagonal(H)\n",
        "cutoff=2*(p+1)/n\n",
        "obs=list(range(1,n+1))\n",
        "print(np.c_[obs,hii,hii>cutoff])\n",
        "\n",
        "plt.plot(obs,hii,linewidth=0,mfc='none',marker='o')\n",
        "plt.axhline(y = cutoff, color = 'r', linestyle = '--')\n",
        "plt.show()"
      ],
      "metadata": {
        "colab": {
          "base_uri": "https://localhost:8080/",
          "height": 786
        },
        "id": "x9_7INIYPx85",
        "outputId": "bf1ea3b5-9d43-4827-e7d0-c091e6772046"
      },
      "execution_count": null,
      "outputs": [
        {
          "output_type": "stream",
          "name": "stdout",
          "text": [
            "[[ 1.          0.09090118  0.        ]\n",
            " [ 2.          0.09659743  0.        ]\n",
            " [ 3.          0.0594957   0.        ]\n",
            " [ 4.          0.14703059  0.        ]\n",
            " [ 5.          0.13191963  0.        ]\n",
            " [ 6.          0.08981403  0.        ]\n",
            " [ 7.          0.27676972  1.        ]\n",
            " [ 8.          0.06080043  0.        ]\n",
            " [ 9.          0.10569181  0.        ]\n",
            " [10.          0.06461767  0.        ]\n",
            " [11.          0.1050444   0.        ]\n",
            " [12.          0.14690756  0.        ]\n",
            " [13.          0.09932409  0.        ]\n",
            " [14.          0.19776627  0.        ]\n",
            " [15.          0.09929775  0.        ]\n",
            " [16.          0.1121656   0.        ]\n",
            " [17.          0.15293555  0.        ]\n",
            " [18.          0.14355429  0.        ]\n",
            " [19.          0.1300492   0.        ]\n",
            " [20.          0.07392162  0.        ]\n",
            " [21.          0.12651812  0.        ]\n",
            " [22.          0.12594582  0.        ]\n",
            " [23.          0.15522111  0.        ]\n",
            " [24.          0.10391159  0.        ]\n",
            " [25.          0.16358819  0.        ]\n",
            " [26.          0.23889095  0.        ]\n",
            " [27.          0.17017003  0.        ]\n",
            " [28.          0.1668875   0.        ]\n",
            " [29.          0.09477428  0.        ]\n",
            " [30.          0.26948789  1.        ]]\n"
          ]
        },
        {
          "output_type": "display_data",
          "data": {
            "text/plain": [
              "<Figure size 432x288 with 1 Axes>"
            ],
            "image/png": "[encoded data removed]"
          },
          "metadata": {
            "needs_background": "light"
          }
        }
      ]
    },
    {
      "cell_type": "code",
      "source": [
        "msei=((n-p-1)*mse-res**2/(1-hii))/(n-p-2)\n",
        "#beta_diff=ixtx @ x*res/(1-hii)\n",
        "rstudent=res/np.sqrt(msei*(1-hii))"
      ],
      "metadata": {
        "id": "N6zWrXq7RjgC"
      },
      "execution_count": null,
      "outputs": []
    },
    {
      "cell_type": "code",
      "source": [
        "msei[0]"
      ],
      "metadata": {
        "colab": {
          "base_uri": "https://localhost:8080/"
        },
        "id": "GE83u-j9SQNm",
        "outputId": "c2585ded-edff-4c75-b4e0-d4bfa1657600"
      },
      "execution_count": null,
      "outputs": [
        {
          "output_type": "execute_result",
          "data": {
            "text/plain": [
              "0.3444991831673748"
            ]
          },
          "metadata": {},
          "execution_count": 93
        }
      ]
    },
    {
      "cell_type": "code",
      "source": [
        "print(np.c_[obs,rstudent,np.abs(rstudent)>2.])\n",
        "\n",
        "plt.plot(obs,rstudent,linewidth=0,mfc='none',marker='o')\n",
        "plt.axhline(y = -2, color = 'r', linestyle = '--')\n",
        "plt.axhline(y = 0, color = 'b', linestyle = '--')\n",
        "plt.axhline(y = 2, color = 'r', linestyle = '--')\n",
        "plt.ylim([-3.1, 3.1])\n",
        "plt.show()"
      ],
      "metadata": {
        "colab": {
          "base_uri": "https://localhost:8080/",
          "height": 787
        },
        "id": "a_vmZRAQSdOz",
        "outputId": "eaf21b8a-cc7f-432e-c6a4-40e27e84818b"
      },
      "execution_count": null,
      "outputs": [
        {
          "output_type": "stream",
          "name": "stdout",
          "text": [
            "[[ 1.00000000e+00  1.15723787e+00  0.00000000e+00]\n",
            " [ 2.00000000e+00  6.70112844e-01  0.00000000e+00]\n",
            " [ 3.00000000e+00 -1.11032765e+00  0.00000000e+00]\n",
            " [ 4.00000000e+00 -1.44726708e-03  0.00000000e+00]\n",
            " [ 5.00000000e+00  3.54762360e-02  0.00000000e+00]\n",
            " [ 6.00000000e+00  9.37286411e-01  0.00000000e+00]\n",
            " [ 7.00000000e+00  9.40241178e-02  0.00000000e+00]\n",
            " [ 8.00000000e+00 -6.84107872e-01  0.00000000e+00]\n",
            " [ 9.00000000e+00 -1.10974464e+00  0.00000000e+00]\n",
            " [ 1.00000000e+01 -7.82082691e-01  0.00000000e+00]\n",
            " [ 1.10000000e+01  9.88703675e-01  0.00000000e+00]\n",
            " [ 1.20000000e+01 -5.96235036e-01  0.00000000e+00]\n",
            " [ 1.30000000e+01  8.12486289e-01  0.00000000e+00]\n",
            " [ 1.40000000e+01 -1.36798832e-01  0.00000000e+00]\n",
            " [ 1.50000000e+01  3.57364581e-01  0.00000000e+00]\n",
            " [ 1.60000000e+01 -1.75668323e-01  0.00000000e+00]\n",
            " [ 1.70000000e+01 -2.24558694e+00  1.00000000e+00]\n",
            " [ 1.80000000e+01 -1.43617958e+00  0.00000000e+00]\n",
            " [ 1.90000000e+01 -1.20689556e+00  0.00000000e+00]\n",
            " [ 2.00000000e+01  1.62766106e+00  0.00000000e+00]\n",
            " [ 2.10000000e+01  7.11889840e-01  0.00000000e+00]\n",
            " [ 2.20000000e+01  4.40244421e-01  0.00000000e+00]\n",
            " [ 2.30000000e+01  2.98705662e+00  1.00000000e+00]\n",
            " [ 2.40000000e+01  1.67232083e-03  0.00000000e+00]\n",
            " [ 2.50000000e+01 -4.92695500e-01  0.00000000e+00]\n",
            " [ 2.60000000e+01  6.42622732e-01  0.00000000e+00]\n",
            " [ 2.70000000e+01 -7.06665704e-01  0.00000000e+00]\n",
            " [ 2.80000000e+01 -1.06913583e+00  0.00000000e+00]\n",
            " [ 2.90000000e+01 -5.10163969e-01  0.00000000e+00]\n",
            " [ 3.00000000e+01  1.08746770e+00  0.00000000e+00]]\n"
          ]
        },
        {
          "output_type": "display_data",
          "data": {
            "text/plain": [
              "<Figure size 432x288 with 1 Axes>"
            ],
            "image/png": "[encoded data removed]"
          },
          "metadata": {
            "needs_background": "light"
          }
        }
      ]
    },
    {
      "cell_type": "code",
      "source": [
        "Di=res**2/(p+1)/mse*hii/(1-hii)**2\n",
        "Di[0]"
      ],
      "metadata": {
        "colab": {
          "base_uri": "https://localhost:8080/"
        },
        "id": "J_14H8dsTVPA",
        "outputId": "af29fa64-86f2-4468-ec9f-11b99643e7fb"
      },
      "execution_count": null,
      "outputs": [
        {
          "output_type": "execute_result",
          "data": {
            "text/plain": [
              "0.033045664713622386"
            ]
          },
          "metadata": {},
          "execution_count": 100
        }
      ]
    },
    {
      "cell_type": "code",
      "source": [
        "cutoff=4/n\n",
        "print(np.c_[obs,Di,Di>cutoff])\n",
        "\n",
        "plt.plot(obs,Di,linewidth=0,mfc='none',marker='o')\n",
        "plt.axhline(y = cutoff, color = 'r', linestyle = '--')\n",
        "plt.show()"
      ],
      "metadata": {
        "colab": {
          "base_uri": "https://localhost:8080/",
          "height": 786
        },
        "id": "5hP84qYRThEN",
        "outputId": "ce8ce98b-f262-44f2-c85d-1d7e2dc22469"
      },
      "execution_count": null,
      "outputs": [
        {
          "output_type": "stream",
          "name": "stdout",
          "text": [
            "[[1.00000000e+00 3.30456647e-02 0.00000000e+00]\n",
            " [2.00000000e+00 1.22637110e-02 0.00000000e+00]\n",
            " [3.00000000e+00 1.93239255e-02 0.00000000e+00]\n",
            " [4.00000000e+00 9.38739132e-08 0.00000000e+00]\n",
            " [5.00000000e+00 4.97251430e-05 0.00000000e+00]\n",
            " [6.00000000e+00 2.17737313e-02 0.00000000e+00]\n",
            " [7.00000000e+00 8.79306527e-04 0.00000000e+00]\n",
            " [8.00000000e+00 7.73243742e-03 0.00000000e+00]\n",
            " [9.00000000e+00 3.60653299e-02 0.00000000e+00]\n",
            " [1.00000000e+01 1.07236650e-02 0.00000000e+00]\n",
            " [1.10000000e+01 2.87090718e-02 0.00000000e+00]\n",
            " [1.20000000e+01 1.56936615e-02 0.00000000e+00]\n",
            " [1.30000000e+01 1.84404955e-02 0.00000000e+00]\n",
            " [1.40000000e+01 1.19857290e-03 0.00000000e+00]\n",
            " [1.50000000e+01 3.64201399e-03 0.00000000e+00]\n",
            " [1.60000000e+01 1.01240016e-03 0.00000000e+00]\n",
            " [1.70000000e+01 1.96982075e-01 1.00000000e+00]\n",
            " [1.80000000e+01 8.30381128e-02 0.00000000e+00]\n",
            " [1.90000000e+01 5.34972859e-02 0.00000000e+00]\n",
            " [2.00000000e+01 4.97142872e-02 0.00000000e+00]\n",
            " [2.10000000e+01 1.87060474e-02 0.00000000e+00]\n",
            " [2.20000000e+01 7.20530822e-03 0.00000000e+00]\n",
            " [2.30000000e+01 3.14137688e-01 1.00000000e+00]\n",
            " [2.40000000e+01 8.43190317e-08 0.00000000e+00]\n",
            " [2.50000000e+01 1.22254734e-02 0.00000000e+00]\n",
            " [2.60000000e+01 3.31530141e-02 0.00000000e+00]\n",
            " [2.70000000e+01 2.61039235e-02 0.00000000e+00]\n",
            " [2.80000000e+01 5.69302377e-02 0.00000000e+00]\n",
            " [2.90000000e+01 7.01178533e-03 0.00000000e+00]\n",
            " [3.00000000e+01 1.08304221e-01 0.00000000e+00]]\n"
          ]
        },
        {
          "output_type": "display_data",
          "data": {
            "text/plain": [
              "<Figure size 432x288 with 1 Axes>"
            ],
            "image/png": "[encoded data removed]"
          },
          "metadata": {
            "needs_background": "light"
          }
        }
      ]
    },
    {
      "cell_type": "code",
      "source": [
        "diff=ixtx @ x[[16,22],:].T * res[[16,22]]/(1-hii[[16,22]])\n",
        "beta1=np.reshape(beta,(-1,1))-diff\n",
        "print(diff)\n",
        "print(beta1)"
      ],
      "metadata": {
        "colab": {
          "base_uri": "https://localhost:8080/"
        },
        "id": "GjsgUSUfT2Ko",
        "outputId": "a7fbd415-7e9b-45cd-ebbf-cc94e8c8001c"
      },
      "execution_count": null,
      "outputs": [
        {
          "output_type": "stream",
          "name": "stdout",
          "text": [
            "[[-5.07326352e-01 -5.42928943e-02]\n",
            " [ 5.65969071e-04 -1.09564879e-04]\n",
            " [ 3.48895804e-03  6.07432223e-03]\n",
            " [ 9.47197047e-03 -2.46044864e-02]]\n",
            "[[ 0.21205532 -0.24097813]\n",
            " [ 0.00073985  0.00141538]\n",
            " [ 0.04211679  0.03953142]\n",
            " [-0.03731547 -0.00323901]]\n"
          ]
        }
      ]
    },
    {
      "cell_type": "markdown",
      "source": [
        "P.23"
      ],
      "metadata": {
        "id": "egglBJf4bmdX"
      }
    },
    {
      "cell_type": "code",
      "source": [
        "x1=x[:,[0,2,3]]\n",
        "y1=x[:,1]\n",
        "beta1=np.linalg.inv(x1.T @ x1) @ x1.T @ y1\n",
        "sse1=sum((y1-x1 @ beta1)**2)\n",
        "sst1=sum((y1-y1.mean())**2)\n",
        "rsq1=1-sse1/sst1\n",
        "tol=1-rsq1\n",
        "vif=1/tol\n",
        "print(rsq1,tol,vif)"
      ],
      "metadata": {
        "colab": {
          "base_uri": "https://localhost:8080/"
        },
        "id": "_g_0O2OAbo8X",
        "outputId": "eb336c0d-2b78-4ba8-c9af-dbd27fd53d75"
      },
      "execution_count": null,
      "outputs": [
        {
          "output_type": "stream",
          "name": "stdout",
          "text": [
            "0.18587461968156704 0.814125380318433 1.2283120317522407\n"
          ]
        }
      ]
    },
    {
      "cell_type": "code",
      "source": [
        "sxx=np.sum((x.T-np.reshape(np.mean(x,0),(-1,1)))**2,1)\n",
        "tol=mse/np.diagonal(varBeta)/sxx\n",
        "vif=1/tol\n",
        "\n",
        "print(np.c_[tol,vif])"
      ],
      "metadata": {
        "colab": {
          "base_uri": "https://localhost:8080/"
        },
        "id": "2MSNrRTccAYC",
        "outputId": "67e77815-7349-4789-e629-3f0e5ebaa407"
      },
      "execution_count": null,
      "outputs": [
        {
          "output_type": "stream",
          "name": "stdout",
          "text": [
            "[[       inf 0.        ]\n",
            " [0.81412538 1.22831203]\n",
            " [0.80204279 1.24681628]\n",
            " [0.98181298 1.01852391]]\n"
          ]
        },
        {
          "output_type": "stream",
          "name": "stderr",
          "text": [
            "/usr/local/lib/python3.7/dist-packages/ipykernel_launcher.py:2: RuntimeWarning: divide by zero encountered in true_divide\n",
            "  \n"
          ]
        }
      ]
    }
  ]
}